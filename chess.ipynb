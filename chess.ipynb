{
 "cells": [
  {
   "cell_type": "code",
   "execution_count": 236,
   "id": "cd296f5c",
   "metadata": {},
   "outputs": [],
   "source": [
    "import json\n",
    "import requests\n",
    "import numpy as np\n",
    "import pandas as pd\n",
    "import seaborn as sns\n",
    "import matplotlib.pyplot as plt"
   ]
  },
  {
   "cell_type": "markdown",
   "id": "b82a8584",
   "metadata": {},
   "source": [
    "## Get all titled palyers' usernames"
   ]
  },
  {
   "cell_type": "code",
   "execution_count": 9,
   "id": "6d4fc909",
   "metadata": {},
   "outputs": [],
   "source": [
    "titles = np.array(['GM', 'WGM', 'IM', 'WIM', 'FM', 'WFM', 'NM', 'WNM', 'CM', 'WCM'])"
   ]
  },
  {
   "cell_type": "code",
   "execution_count": 25,
   "id": "3fb9a7d1",
   "metadata": {},
   "outputs": [],
   "source": [
    "titled_players_dict = {}"
   ]
  },
  {
   "cell_type": "code",
   "execution_count": 26,
   "id": "5bd720a5",
   "metadata": {},
   "outputs": [],
   "source": [
    "for t in titles:\n",
    "    url = 'https://api.chess.com/pub/titled/' + t\n",
    "    r = requests.get(url)\n",
    "    json_data = r.json()\n",
    "    titled_players_dict[t] = json_data['players']"
   ]
  },
  {
   "cell_type": "code",
   "execution_count": 139,
   "id": "38772619",
   "metadata": {},
   "outputs": [
    {
     "data": {
      "text/plain": [
       "dict_keys(['GM', 'WGM', 'IM', 'WIM', 'FM', 'WFM', 'NM', 'WNM', 'CM', 'WCM'])"
      ]
     },
     "execution_count": 139,
     "metadata": {},
     "output_type": "execute_result"
    }
   ],
   "source": [
    "titled_players_dict.keys()"
   ]
  },
  {
   "cell_type": "markdown",
   "id": "68ea1551",
   "metadata": {},
   "source": [
    "## Create a chess data frame"
   ]
  },
  {
   "cell_type": "code",
   "execution_count": 68,
   "id": "fc801a60",
   "metadata": {},
   "outputs": [],
   "source": [
    "chess = pd.melt(titled_players_df)\n",
    "chess = chess.dropna()\n",
    "chess.columns = ['title','username']"
   ]
  },
  {
   "cell_type": "markdown",
   "id": "e6a69490",
   "metadata": {},
   "source": [
    "### Barplot for counts of all titled players"
   ]
  },
  {
   "cell_type": "code",
   "execution_count": null,
   "id": "1ea784d7",
   "metadata": {},
   "outputs": [],
   "source": [
    "titled_players_df = pd.DataFrame(dict([ (k,pd.Series(v)) for k,v in titled_players_dict.items() ]))"
   ]
  },
  {
   "cell_type": "code",
   "execution_count": 125,
   "id": "99a59e8f",
   "metadata": {},
   "outputs": [],
   "source": [
    "h = chess['title'].value_counts()\n",
    "h=h.reset_index()"
   ]
  },
  {
   "cell_type": "code",
   "execution_count": 541,
   "id": "44917092",
   "metadata": {},
   "outputs": [
    {
     "data": {
      "image/png": "[encoded data removed]",
      "text/plain": [
       "<Figure size 1152x432 with 1 Axes>"
      ]
     },
     "metadata": {
      "needs_background": "light"
     },
     "output_type": "display_data"
    }
   ],
   "source": [
    "%matplotlib inline\n",
    "plt.figure(figsize=(16, 6))\n",
    "sns.barplot(x='index',y='title',data=h)\n",
    "#plt.savefig('Num_players_by_title.jpg',dpi=300)"
   ]
  },
  {
   "cell_type": "markdown",
   "id": "6a20f8d9",
   "metadata": {},
   "source": [
    "## Get titled palyers ratings in rapid and blitz"
   ]
  },
  {
   "cell_type": "code",
   "execution_count": 207,
   "id": "a0de5c38",
   "metadata": {},
   "outputs": [],
   "source": [
    "user_name = np.array(chess['username'])\n",
    "rapid_rating = []\n",
    "blitz_rating = []\n",
    "n = 0\n",
    "rows_n = chess.shape[0]\n"
   ]
  },
  {
   "cell_type": "code",
   "execution_count": 208,
   "id": "f8fe8978",
   "metadata": {},
   "outputs": [
    {
     "name": "stdout",
     "output_type": "stream",
     "text": [
      "100 out of 10410 0.96 % done\n",
      "200 out of 10410 1.92 % done\n",
      "300 out of 10410 2.88 % done\n",
      "400 out of 10410 3.84 % done\n",
      "500 out of 10410 4.8 % done\n",
      "600 out of 10410 5.76 % done\n",
      "700 out of 10410 6.72 % done\n",
      "800 out of 10410 7.68 % done\n",
      "900 out of 10410 8.65 % done\n",
      "1000 out of 10410 9.61 % done\n",
      "1100 out of 10410 10.57 % done\n",
      "1200 out of 10410 11.53 % done\n",
      "1300 out of 10410 12.49 % done\n",
      "1400 out of 10410 13.45 % done\n",
      "1500 out of 10410 14.41 % done\n",
      "1600 out of 10410 15.37 % done\n",
      "1700 out of 10410 16.33 % done\n",
      "1800 out of 10410 17.29 % done\n",
      "1900 out of 10410 18.25 % done\n",
      "2000 out of 10410 19.21 % done\n",
      "2100 out of 10410 20.17 % done\n",
      "2200 out of 10410 21.13 % done\n",
      "2300 out of 10410 22.09 % done\n",
      "2400 out of 10410 23.05 % done\n",
      "2500 out of 10410 24.02 % done\n",
      "2600 out of 10410 24.98 % done\n",
      "2700 out of 10410 25.94 % done\n",
      "2800 out of 10410 26.9 % done\n",
      "2900 out of 10410 27.86 % done\n",
      "3000 out of 10410 28.82 % done\n",
      "3100 out of 10410 29.78 % done\n",
      "3200 out of 10410 30.74 % done\n",
      "3300 out of 10410 31.7 % done\n",
      "3400 out of 10410 32.66 % done\n",
      "3500 out of 10410 33.62 % done\n",
      "3600 out of 10410 34.58 % done\n",
      "3700 out of 10410 35.54 % done\n",
      "3800 out of 10410 36.5 % done\n",
      "3900 out of 10410 37.46 % done\n",
      "4000 out of 10410 38.42 % done\n",
      "4100 out of 10410 39.39 % done\n",
      "4200 out of 10410 40.35 % done\n",
      "4300 out of 10410 41.31 % done\n",
      "4400 out of 10410 42.27 % done\n",
      "4500 out of 10410 43.23 % done\n",
      "4600 out of 10410 44.19 % done\n",
      "4700 out of 10410 45.15 % done\n",
      "4800 out of 10410 46.11 % done\n",
      "4900 out of 10410 47.07 % done\n",
      "5000 out of 10410 48.03 % done\n",
      "5100 out of 10410 48.99 % done\n",
      "5200 out of 10410 49.95 % done\n",
      "5300 out of 10410 50.91 % done\n",
      "5400 out of 10410 51.87 % done\n",
      "5500 out of 10410 52.83 % done\n",
      "5600 out of 10410 53.79 % done\n",
      "5700 out of 10410 54.76 % done\n",
      "5800 out of 10410 55.72 % done\n",
      "5900 out of 10410 56.68 % done\n",
      "6000 out of 10410 57.64 % done\n",
      "6100 out of 10410 58.6 % done\n",
      "6200 out of 10410 59.56 % done\n",
      "6300 out of 10410 60.52 % done\n",
      "6400 out of 10410 61.48 % done\n",
      "6500 out of 10410 62.44 % done\n",
      "6600 out of 10410 63.4 % done\n",
      "6700 out of 10410 64.36 % done\n",
      "6800 out of 10410 65.32 % done\n",
      "6900 out of 10410 66.28 % done\n",
      "7000 out of 10410 67.24 % done\n",
      "7100 out of 10410 68.2 % done\n",
      "7200 out of 10410 69.16 % done\n",
      "7300 out of 10410 70.12 % done\n",
      "7400 out of 10410 71.09 % done\n",
      "7500 out of 10410 72.05 % done\n",
      "7600 out of 10410 73.01 % done\n",
      "7700 out of 10410 73.97 % done\n",
      "7800 out of 10410 74.93 % done\n",
      "7900 out of 10410 75.89 % done\n",
      "8000 out of 10410 76.85 % done\n",
      "8100 out of 10410 77.81 % done\n",
      "8200 out of 10410 78.77 % done\n",
      "8300 out of 10410 79.73 % done\n",
      "8400 out of 10410 80.69 % done\n",
      "8500 out of 10410 81.65 % done\n",
      "8600 out of 10410 82.61 % done\n",
      "8700 out of 10410 83.57 % done\n",
      "8800 out of 10410 84.53 % done\n",
      "8900 out of 10410 85.49 % done\n",
      "9000 out of 10410 86.46 % done\n",
      "9100 out of 10410 87.42 % done\n",
      "9200 out of 10410 88.38 % done\n",
      "9300 out of 10410 89.34 % done\n",
      "9400 out of 10410 90.3 % done\n",
      "9500 out of 10410 91.26 % done\n",
      "9600 out of 10410 92.22 % done\n",
      "9700 out of 10410 93.18 % done\n",
      "9800 out of 10410 94.14 % done\n",
      "9900 out of 10410 95.1 % done\n",
      "10000 out of 10410 96.06 % done\n",
      "10100 out of 10410 97.02 % done\n",
      "10200 out of 10410 97.98 % done\n",
      "10300 out of 10410 98.94 % done\n",
      "10400 out of 10410 99.9 % done\n"
     ]
    }
   ],
   "source": [
    "for un in user_name:\n",
    "    n += 1\n",
    "    if n % 100 == 0:\n",
    "        print(n,'out of',rows_n,round((n/rows_n)*100,2),'% done')\n",
    "    url = 'https://api.chess.com/pub/player/' + un + '/stats'\n",
    "    r = requests.get(url)\n",
    "    json_data = r.json()\n",
    "    if 'chess_rapid' in json_data.keys():\n",
    "        rapid_rating.append(json_data['chess_rapid']['last']['rating'])\n",
    "    else:\n",
    "        rapid_rating.append(0)\n",
    "        \n",
    "    if 'chess_blitz' in json_data.keys():\n",
    "        blitz_rating.append(json_data['chess_blitz']['last']['rating'])\n",
    "    else:\n",
    "        blitz_rating.append(0)"
   ]
  },
  {
   "cell_type": "code",
   "execution_count": null,
   "id": "782f76b9",
   "metadata": {},
   "outputs": [],
   "source": [
    "chess['rapid_rating'] = rapid_rating\n",
    "chess['blitz_rating'] = blitz_rating"
   ]
  },
  {
   "cell_type": "markdown",
   "id": "7c978784",
   "metadata": {},
   "source": [
    "## Save chess data"
   ]
  },
  {
   "cell_type": "code",
   "execution_count": 227,
   "id": "bc002692",
   "metadata": {},
   "outputs": [],
   "source": [
    "chess.to_pickle(\"chess.pkl\")"
   ]
  },
  {
   "cell_type": "code",
   "execution_count": 261,
   "id": "dc9d20d6",
   "metadata": {},
   "outputs": [],
   "source": [
    "#chess = pd.read_pickle(\"chess.pkl\")"
   ]
  },
  {
   "cell_type": "markdown",
   "id": "0ed0d5c8",
   "metadata": {},
   "source": [
    "### Replace 0 with NaN and plot ratings"
   ]
  },
  {
   "cell_type": "code",
   "execution_count": 223,
   "id": "578264ba",
   "metadata": {},
   "outputs": [],
   "source": [
    "chess['rapid_rating'] = chess['rapid_rating'].replace(0,np.nan)\n",
    "chess['blitz_rating'] = chess['blitz_rating'].replace(0,np.nan)"
   ]
  },
  {
   "cell_type": "code",
   "execution_count": 542,
   "id": "0bb9ddf1",
   "metadata": {},
   "outputs": [
    {
     "data": {
      "image/png": "[encoded data removed]",
      "text/plain": [
       "<Figure size 1152x432 with 1 Axes>"
      ]
     },
     "metadata": {
      "needs_background": "light"
     },
     "output_type": "display_data"
    }
   ],
   "source": [
    "%matplotlib inline\n",
    "plt.figure(figsize=(16, 6))\n",
    "sns.kdeplot(x='rapid_rating',data=chess,hue=\"title\")\n",
    "#plt.savefig('Rapid_rating_dist_by_title.jpg',dpi=300)"
   ]
  },
  {
   "cell_type": "code",
   "execution_count": 543,
   "id": "3f7ff43c",
   "metadata": {},
   "outputs": [
    {
     "data": {
      "image/png": "[encoded data removed]",
      "text/plain": [
       "<Figure size 1152x432 with 1 Axes>"
      ]
     },
     "metadata": {
      "needs_background": "light"
     },
     "output_type": "display_data"
    }
   ],
   "source": [
    "%matplotlib inline\n",
    "plt.figure(figsize=(16, 6))\n",
    "sns.kdeplot(x='blitz_rating',data=chess,hue=\"title\")\n",
    "#plt.savefig('Blitz_rating_dist_by_title.jpg',dpi=300)"
   ]
  },
  {
   "cell_type": "markdown",
   "id": "60223650",
   "metadata": {},
   "source": [
    "## Select only strong players and save data set"
   ]
  },
  {
   "cell_type": "code",
   "execution_count": 258,
   "id": "7eba34d8",
   "metadata": {},
   "outputs": [],
   "source": [
    "chess_strong = chess[(chess['rapid_rating']>2300) | (chess['blitz_rating']>2400)]"
   ]
  },
  {
   "cell_type": "code",
   "execution_count": 262,
   "id": "a4c7418c",
   "metadata": {},
   "outputs": [],
   "source": [
    "chess_strong.to_pickle(\"chess_strong.pkl\")"
   ]
  },
  {
   "cell_type": "code",
   "execution_count": 263,
   "id": "4f552cfa",
   "metadata": {},
   "outputs": [
    {
     "data": {
      "text/plain": [
       "(5144, 4)"
      ]
     },
     "execution_count": 263,
     "metadata": {},
     "output_type": "execute_result"
    }
   ],
   "source": [
    "chess_strong.shape"
   ]
  },
  {
   "cell_type": "code",
   "execution_count": 274,
   "id": "c0bd57e7",
   "metadata": {},
   "outputs": [
    {
     "data": {
      "text/html": [
       "<div>\n",
       "<style scoped>\n",
       "    .dataframe tbody tr th:only-of-type {\n",
       "        vertical-align: middle;\n",
       "    }\n",
       "\n",
       "    .dataframe tbody tr th {\n",
       "        vertical-align: top;\n",
       "    }\n",
       "\n",
       "    .dataframe thead th {\n",
       "        text-align: right;\n",
       "    }\n",
       "</style>\n",
       "<table border=\"1\" class=\"dataframe\">\n",
       "  <thead>\n",
       "    <tr style=\"text-align: right;\">\n",
       "      <th></th>\n",
       "      <th>title</th>\n",
       "      <th>username</th>\n",
       "      <th>rapid_rating</th>\n",
       "      <th>blitz_rating</th>\n",
       "    </tr>\n",
       "  </thead>\n",
       "  <tbody>\n",
       "    <tr>\n",
       "      <th>0</th>\n",
       "      <td>GM</td>\n",
       "      <td>123lt</td>\n",
       "      <td>2505.0</td>\n",
       "      <td>2704.0</td>\n",
       "    </tr>\n",
       "    <tr>\n",
       "      <th>1</th>\n",
       "      <td>GM</td>\n",
       "      <td>124chess</td>\n",
       "      <td>2244.0</td>\n",
       "      <td>2646.0</td>\n",
       "    </tr>\n",
       "    <tr>\n",
       "      <th>2</th>\n",
       "      <td>GM</td>\n",
       "      <td>1977ivan</td>\n",
       "      <td>2342.0</td>\n",
       "      <td>2731.0</td>\n",
       "    </tr>\n",
       "    <tr>\n",
       "      <th>3</th>\n",
       "      <td>GM</td>\n",
       "      <td>1stsecond</td>\n",
       "      <td>2496.0</td>\n",
       "      <td>2785.0</td>\n",
       "    </tr>\n",
       "    <tr>\n",
       "      <th>5</th>\n",
       "      <td>GM</td>\n",
       "      <td>64aramis64</td>\n",
       "      <td>2497.0</td>\n",
       "      <td>2957.0</td>\n",
       "    </tr>\n",
       "    <tr>\n",
       "      <th>...</th>\n",
       "      <td>...</td>\n",
       "      <td>...</td>\n",
       "      <td>...</td>\n",
       "      <td>...</td>\n",
       "    </tr>\n",
       "    <tr>\n",
       "      <th>27443</th>\n",
       "      <td>WCM</td>\n",
       "      <td>not_najdorfs_player</td>\n",
       "      <td>2355.0</td>\n",
       "      <td>2420.0</td>\n",
       "    </tr>\n",
       "    <tr>\n",
       "      <th>27466</th>\n",
       "      <td>WCM</td>\n",
       "      <td>queen_2007</td>\n",
       "      <td>2413.0</td>\n",
       "      <td>2128.0</td>\n",
       "    </tr>\n",
       "    <tr>\n",
       "      <th>27497</th>\n",
       "      <td>WCM</td>\n",
       "      <td>speshka</td>\n",
       "      <td>1900.0</td>\n",
       "      <td>2421.0</td>\n",
       "    </tr>\n",
       "    <tr>\n",
       "      <th>27508</th>\n",
       "      <td>WCM</td>\n",
       "      <td>tidyclam</td>\n",
       "      <td>2246.0</td>\n",
       "      <td>2554.0</td>\n",
       "    </tr>\n",
       "    <tr>\n",
       "      <th>27522</th>\n",
       "      <td>WCM</td>\n",
       "      <td>viuvanegra</td>\n",
       "      <td>2317.0</td>\n",
       "      <td>2045.0</td>\n",
       "    </tr>\n",
       "  </tbody>\n",
       "</table>\n",
       "<p>5144 rows × 4 columns</p>\n",
       "</div>"
      ],
      "text/plain": [
       "      title             username  rapid_rating  blitz_rating\n",
       "0        GM                123lt        2505.0        2704.0\n",
       "1        GM             124chess        2244.0        2646.0\n",
       "2        GM             1977ivan        2342.0        2731.0\n",
       "3        GM            1stsecond        2496.0        2785.0\n",
       "5        GM           64aramis64        2497.0        2957.0\n",
       "...     ...                  ...           ...           ...\n",
       "27443   WCM  not_najdorfs_player        2355.0        2420.0\n",
       "27466   WCM           queen_2007        2413.0        2128.0\n",
       "27497   WCM              speshka        1900.0        2421.0\n",
       "27508   WCM             tidyclam        2246.0        2554.0\n",
       "27522   WCM           viuvanegra        2317.0        2045.0\n",
       "\n",
       "[5144 rows x 4 columns]"
      ]
     },
     "execution_count": 274,
     "metadata": {},
     "output_type": "execute_result"
    }
   ],
   "source": [
    "chess_strong"
   ]
  },
  {
   "cell_type": "markdown",
   "id": "85959c6a",
   "metadata": {},
   "source": [
    "## Find out when strong players play their games"
   ]
  },
  {
   "cell_type": "code",
   "execution_count": 277,
   "id": "ae849aa5",
   "metadata": {},
   "outputs": [
    {
     "data": {
      "text/html": [
       "<div>\n",
       "<style scoped>\n",
       "    .dataframe tbody tr th:only-of-type {\n",
       "        vertical-align: middle;\n",
       "    }\n",
       "\n",
       "    .dataframe tbody tr th {\n",
       "        vertical-align: top;\n",
       "    }\n",
       "\n",
       "    .dataframe thead th {\n",
       "        text-align: right;\n",
       "    }\n",
       "</style>\n",
       "<table border=\"1\" class=\"dataframe\">\n",
       "  <thead>\n",
       "    <tr style=\"text-align: right;\">\n",
       "      <th></th>\n",
       "      <th>title</th>\n",
       "      <th>username</th>\n",
       "      <th>rapid_rating</th>\n",
       "      <th>blitz_rating</th>\n",
       "    </tr>\n",
       "  </thead>\n",
       "  <tbody>\n",
       "    <tr>\n",
       "      <th>15014</th>\n",
       "      <td>FM</td>\n",
       "      <td>white_ghost</td>\n",
       "      <td>3087.0</td>\n",
       "      <td>3001.0</td>\n",
       "    </tr>\n",
       "  </tbody>\n",
       "</table>\n",
       "</div>"
      ],
      "text/plain": [
       "      title     username  rapid_rating  blitz_rating\n",
       "15014    FM  white_ghost        3087.0        3001.0"
      ]
     },
     "execution_count": 277,
     "metadata": {},
     "output_type": "execute_result"
    }
   ],
   "source": [
    "chess_strong[chess_strong['rapid_rating']==chess_strong['rapid_rating'].max()]"
   ]
  },
  {
   "cell_type": "code",
   "execution_count": 293,
   "id": "47c0f70f",
   "metadata": {},
   "outputs": [
    {
     "data": {
      "text/plain": [
       "array(['123lt', '124chess', '1977ivan', ..., 'speshka', 'tidyclam',\n",
       "       'viuvanegra'], dtype=object)"
      ]
     },
     "execution_count": 293,
     "metadata": {},
     "output_type": "execute_result"
    }
   ],
   "source": [
    "usernames_s = np.array(chess_strong['username'])\n",
    "usernames_s"
   ]
  },
  {
   "cell_type": "code",
   "execution_count": 309,
   "id": "863a7046",
   "metadata": {},
   "outputs": [],
   "source": [
    "n = 0\n",
    "time_rapid = []\n",
    "time_blitz = []\n",
    "username_rapid = []\n",
    "username_blitz = []"
   ]
  },
  {
   "cell_type": "code",
   "execution_count": 310,
   "id": "5b6612aa",
   "metadata": {},
   "outputs": [
    {
     "name": "stdout",
     "output_type": "stream",
     "text": [
      "100 out of 5144 1.94 % done\n",
      "200 out of 5144 3.89 % done\n",
      "300 out of 5144 5.83 % done\n",
      "400 out of 5144 7.78 % done\n",
      "500 out of 5144 9.72 % done\n",
      "600 out of 5144 11.66 % done\n",
      "700 out of 5144 13.61 % done\n",
      "800 out of 5144 15.55 % done\n",
      "900 out of 5144 17.5 % done\n",
      "1000 out of 5144 19.44 % done\n",
      "1100 out of 5144 21.38 % done\n",
      "1200 out of 5144 23.33 % done\n",
      "1300 out of 5144 25.27 % done\n",
      "1400 out of 5144 27.22 % done\n",
      "1500 out of 5144 29.16 % done\n",
      "1600 out of 5144 31.1 % done\n",
      "1700 out of 5144 33.05 % done\n",
      "1800 out of 5144 34.99 % done\n",
      "1900 out of 5144 36.94 % done\n",
      "2000 out of 5144 38.88 % done\n",
      "2100 out of 5144 40.82 % done\n",
      "2200 out of 5144 42.77 % done\n",
      "2300 out of 5144 44.71 % done\n",
      "2400 out of 5144 46.66 % done\n",
      "2500 out of 5144 48.6 % done\n",
      "2600 out of 5144 50.54 % done\n",
      "2700 out of 5144 52.49 % done\n",
      "2800 out of 5144 54.43 % done\n",
      "2900 out of 5144 56.38 % done\n",
      "3000 out of 5144 58.32 % done\n",
      "3100 out of 5144 60.26 % done\n",
      "3200 out of 5144 62.21 % done\n",
      "3300 out of 5144 64.15 % done\n",
      "3400 out of 5144 66.1 % done\n",
      "3500 out of 5144 68.04 % done\n",
      "3600 out of 5144 69.98 % done\n",
      "3700 out of 5144 71.93 % done\n",
      "3800 out of 5144 73.87 % done\n",
      "3900 out of 5144 75.82 % done\n",
      "4000 out of 5144 77.76 % done\n",
      "4100 out of 5144 79.7 % done\n",
      "4200 out of 5144 81.65 % done\n",
      "4300 out of 5144 83.59 % done\n",
      "4400 out of 5144 85.54 % done\n",
      "4500 out of 5144 87.48 % done\n",
      "4600 out of 5144 89.42 % done\n",
      "4700 out of 5144 91.37 % done\n",
      "4800 out of 5144 93.31 % done\n",
      "4900 out of 5144 95.26 % done\n",
      "5000 out of 5144 97.2 % done\n",
      "5100 out of 5144 99.14 % done\n"
     ]
    }
   ],
   "source": [
    "for un in usernames_s:\n",
    "    n += 1\n",
    "    if n % 100 == 0:\n",
    "        print(n,'out of',len(usernames_s),round((n/len(usernames_s))*100,2),'% done')\n",
    "    url = 'https://api.chess.com/pub/player/' + un + '/games/2022/04'\n",
    "    r = requests.get(url)\n",
    "    json_data = r.json()\n",
    "    \n",
    "    if len(json_data['games']) > 0:\n",
    "        \n",
    "        for game in range(len(json_data['games'])):\n",
    "            \n",
    "            if (json_data['games'][game]['rules'] == 'chess') & (json_data['games'][game]['time_class'] == 'rapid'):\n",
    "                time_rapid.append(json_data['games'][game]['end_time'])\n",
    "                username_rapid.append(un)\n",
    "                \n",
    "            if (json_data['games'][game]['rules'] == 'chess') & (json_data['games'][game]['time_class'] == 'blitz'):\n",
    "                time_blitz.append(json_data['games'][game]['end_time'])\n",
    "                username_blitz.append(un)"
   ]
  },
  {
   "cell_type": "code",
   "execution_count": 313,
   "id": "16a655c5",
   "metadata": {},
   "outputs": [
    {
     "data": {
      "text/html": [
       "<div>\n",
       "<style scoped>\n",
       "    .dataframe tbody tr th:only-of-type {\n",
       "        vertical-align: middle;\n",
       "    }\n",
       "\n",
       "    .dataframe tbody tr th {\n",
       "        vertical-align: top;\n",
       "    }\n",
       "\n",
       "    .dataframe thead th {\n",
       "        text-align: right;\n",
       "    }\n",
       "</style>\n",
       "<table border=\"1\" class=\"dataframe\">\n",
       "  <thead>\n",
       "    <tr style=\"text-align: right;\">\n",
       "      <th></th>\n",
       "      <th>username</th>\n",
       "      <th>end_time</th>\n",
       "    </tr>\n",
       "  </thead>\n",
       "  <tbody>\n",
       "    <tr>\n",
       "      <th>0</th>\n",
       "      <td>aleksandrovaleksei</td>\n",
       "      <td>1650132714</td>\n",
       "    </tr>\n",
       "    <tr>\n",
       "      <th>1</th>\n",
       "      <td>aleksandrovaleksei</td>\n",
       "      <td>1650135337</td>\n",
       "    </tr>\n",
       "    <tr>\n",
       "      <th>2</th>\n",
       "      <td>aleksandrovaleksei</td>\n",
       "      <td>1650137918</td>\n",
       "    </tr>\n",
       "    <tr>\n",
       "      <th>3</th>\n",
       "      <td>aleksandrovaleksei</td>\n",
       "      <td>1650139259</td>\n",
       "    </tr>\n",
       "    <tr>\n",
       "      <th>4</th>\n",
       "      <td>amintabatabaei</td>\n",
       "      <td>1648916217</td>\n",
       "    </tr>\n",
       "    <tr>\n",
       "      <th>...</th>\n",
       "      <td>...</td>\n",
       "      <td>...</td>\n",
       "    </tr>\n",
       "    <tr>\n",
       "      <th>7163</th>\n",
       "      <td>zimmm36</td>\n",
       "      <td>1649684090</td>\n",
       "    </tr>\n",
       "    <tr>\n",
       "      <th>7164</th>\n",
       "      <td>zimmm36</td>\n",
       "      <td>1649685317</td>\n",
       "    </tr>\n",
       "    <tr>\n",
       "      <th>7165</th>\n",
       "      <td>zimmm36</td>\n",
       "      <td>1649686140</td>\n",
       "    </tr>\n",
       "    <tr>\n",
       "      <th>7166</th>\n",
       "      <td>zverevlev</td>\n",
       "      <td>1649794101</td>\n",
       "    </tr>\n",
       "    <tr>\n",
       "      <th>7167</th>\n",
       "      <td>zverevlev</td>\n",
       "      <td>1649794950</td>\n",
       "    </tr>\n",
       "  </tbody>\n",
       "</table>\n",
       "<p>7168 rows × 2 columns</p>\n",
       "</div>"
      ],
      "text/plain": [
       "                username    end_time\n",
       "0     aleksandrovaleksei  1650132714\n",
       "1     aleksandrovaleksei  1650135337\n",
       "2     aleksandrovaleksei  1650137918\n",
       "3     aleksandrovaleksei  1650139259\n",
       "4         amintabatabaei  1648916217\n",
       "...                  ...         ...\n",
       "7163             zimmm36  1649684090\n",
       "7164             zimmm36  1649685317\n",
       "7165             zimmm36  1649686140\n",
       "7166           zverevlev  1649794101\n",
       "7167           zverevlev  1649794950\n",
       "\n",
       "[7168 rows x 2 columns]"
      ]
     },
     "execution_count": 313,
     "metadata": {},
     "output_type": "execute_result"
    }
   ],
   "source": [
    "rapid_times = pd.DataFrame({'username':username_rapid,'end_time':time_rapid})\n",
    "rapid_times"
   ]
  },
  {
   "cell_type": "code",
   "execution_count": 314,
   "id": "3b93e5a5",
   "metadata": {},
   "outputs": [
    {
     "data": {
      "text/html": [
       "<div>\n",
       "<style scoped>\n",
       "    .dataframe tbody tr th:only-of-type {\n",
       "        vertical-align: middle;\n",
       "    }\n",
       "\n",
       "    .dataframe tbody tr th {\n",
       "        vertical-align: top;\n",
       "    }\n",
       "\n",
       "    .dataframe thead th {\n",
       "        text-align: right;\n",
       "    }\n",
       "</style>\n",
       "<table border=\"1\" class=\"dataframe\">\n",
       "  <thead>\n",
       "    <tr style=\"text-align: right;\">\n",
       "      <th></th>\n",
       "      <th>username</th>\n",
       "      <th>end_time</th>\n",
       "    </tr>\n",
       "  </thead>\n",
       "  <tbody>\n",
       "    <tr>\n",
       "      <th>0</th>\n",
       "      <td>1977ivan</td>\n",
       "      <td>1650032737</td>\n",
       "    </tr>\n",
       "    <tr>\n",
       "      <th>1</th>\n",
       "      <td>1977ivan</td>\n",
       "      <td>1650033046</td>\n",
       "    </tr>\n",
       "    <tr>\n",
       "      <th>2</th>\n",
       "      <td>1977ivan</td>\n",
       "      <td>1650033408</td>\n",
       "    </tr>\n",
       "    <tr>\n",
       "      <th>3</th>\n",
       "      <td>1977ivan</td>\n",
       "      <td>1650033786</td>\n",
       "    </tr>\n",
       "    <tr>\n",
       "      <th>4</th>\n",
       "      <td>1977ivan</td>\n",
       "      <td>1650034117</td>\n",
       "    </tr>\n",
       "    <tr>\n",
       "      <th>...</th>\n",
       "      <td>...</td>\n",
       "      <td>...</td>\n",
       "    </tr>\n",
       "    <tr>\n",
       "      <th>223269</th>\n",
       "      <td>speshka</td>\n",
       "      <td>1649176884</td>\n",
       "    </tr>\n",
       "    <tr>\n",
       "      <th>223270</th>\n",
       "      <td>speshka</td>\n",
       "      <td>1649177372</td>\n",
       "    </tr>\n",
       "    <tr>\n",
       "      <th>223271</th>\n",
       "      <td>speshka</td>\n",
       "      <td>1649178108</td>\n",
       "    </tr>\n",
       "    <tr>\n",
       "      <th>223272</th>\n",
       "      <td>viuvanegra</td>\n",
       "      <td>1649812839</td>\n",
       "    </tr>\n",
       "    <tr>\n",
       "      <th>223273</th>\n",
       "      <td>viuvanegra</td>\n",
       "      <td>1649945219</td>\n",
       "    </tr>\n",
       "  </tbody>\n",
       "</table>\n",
       "<p>223274 rows × 2 columns</p>\n",
       "</div>"
      ],
      "text/plain": [
       "          username    end_time\n",
       "0         1977ivan  1650032737\n",
       "1         1977ivan  1650033046\n",
       "2         1977ivan  1650033408\n",
       "3         1977ivan  1650033786\n",
       "4         1977ivan  1650034117\n",
       "...            ...         ...\n",
       "223269     speshka  1649176884\n",
       "223270     speshka  1649177372\n",
       "223271     speshka  1649178108\n",
       "223272  viuvanegra  1649812839\n",
       "223273  viuvanegra  1649945219\n",
       "\n",
       "[223274 rows x 2 columns]"
      ]
     },
     "execution_count": 314,
     "metadata": {},
     "output_type": "execute_result"
    }
   ],
   "source": [
    "blitz_times = pd.DataFrame({'username':username_blitz,'end_time':time_blitz})\n",
    "blitz_times"
   ]
  },
  {
   "cell_type": "markdown",
   "id": "28926204",
   "metadata": {},
   "source": [
    "### Save times data"
   ]
  },
  {
   "cell_type": "code",
   "execution_count": 315,
   "id": "222190e5",
   "metadata": {},
   "outputs": [],
   "source": [
    "rapid_times.to_pickle(\"rapid_times.pkl\")\n",
    "blitz_times.to_pickle(\"blitz_times.pkl\")"
   ]
  },
  {
   "cell_type": "code",
   "execution_count": 342,
   "id": "3dbb98a3",
   "metadata": {},
   "outputs": [
    {
     "name": "stdout",
     "output_type": "stream",
     "text": [
      "The number players played at least one rapid game in April: 634\n",
      "The number players played at least one blitz game in April: 2389\n",
      "Total number of rapid games in April: 7168\n",
      "Total number of blitz games in April: 223274\n",
      "Average number of rapid games per player: 11.31\n",
      "Average number of blitz games per player: 93.46\n"
     ]
    }
   ],
   "source": [
    "print('The number players played at least one rapid game in April:',len(rapid_times['username'].unique()))\n",
    "print('The number players played at least one blitz game in April:',len(blitz_times['username'].unique()))\n",
    "print('Total number of rapid games in April:',rapid_times.shape[0])\n",
    "print('Total number of blitz games in April:',blitz_times.shape[0])\n",
    "print('Average number of rapid games per player:',round(rapid_times.shape[0]/len(rapid_times['username'].unique()),2))\n",
    "print('Average number of blitz games per player:',round(blitz_times.shape[0]/len(blitz_times['username'].unique()),2))"
   ]
  },
  {
   "cell_type": "code",
   "execution_count": 331,
   "id": "7e0ff7e2",
   "metadata": {},
   "outputs": [
    {
     "data": {
      "text/plain": [
       "<AxesSubplot:xlabel='username', ylabel='Count'>"
      ]
     },
     "execution_count": 331,
     "metadata": {},
     "output_type": "execute_result"
    },
    {
     "data": {
      "image/png": "[encoded data removed]",
      "text/plain": [
       "<Figure size 1152x432 with 1 Axes>"
      ]
     },
     "metadata": {
      "needs_background": "light"
     },
     "output_type": "display_data"
    }
   ],
   "source": [
    "num_rapid_april = rapid_times['username'].value_counts()\n",
    "plt.figure(figsize=(16, 6))\n",
    "sns.histplot(num_rapid_april,kde=True)"
   ]
  },
  {
   "cell_type": "code",
   "execution_count": 332,
   "id": "f987e631",
   "metadata": {},
   "outputs": [
    {
     "data": {
      "text/plain": [
       "<AxesSubplot:xlabel='username', ylabel='Count'>"
      ]
     },
     "execution_count": 332,
     "metadata": {},
     "output_type": "execute_result"
    },
    {
     "data": {
      "image/png": "[encoded data removed]",
      "text/plain": [
       "<Figure size 1152x432 with 1 Axes>"
      ]
     },
     "metadata": {
      "needs_background": "light"
     },
     "output_type": "display_data"
    }
   ],
   "source": [
    "num_blitz_april = blitz_times['username'].value_counts()\n",
    "plt.figure(figsize=(16, 6))\n",
    "sns.histplot(num_blitz_april,kde=True)"
   ]
  },
  {
   "cell_type": "code",
   "execution_count": 348,
   "id": "987059fb",
   "metadata": {},
   "outputs": [
    {
     "data": {
      "text/plain": [
       "Timestamp('2022-04-15 14:25:37+0000', tz='UTC')"
      ]
     },
     "execution_count": 348,
     "metadata": {},
     "output_type": "execute_result"
    }
   ],
   "source": [
    "pd.to_datetime(1648994070, unit='s',utc=True)"
   ]
  },
  {
   "cell_type": "code",
   "execution_count": 372,
   "id": "e2333ca1",
   "metadata": {},
   "outputs": [],
   "source": [
    "rapid_times['end_time_r'] = pd.to_datetime(rapid_times['end_time'], unit='s',utc=True)\n",
    "blitz_times['end_time_r'] = pd.to_datetime(blitz_times['end_time'], unit='s',utc=True)"
   ]
  },
  {
   "cell_type": "code",
   "execution_count": 373,
   "id": "5c638550",
   "metadata": {},
   "outputs": [],
   "source": [
    "rapid_times['end_time_r'] = rapid_times['end_time_r'].dt.tz_convert('Europe/Berlin')\n",
    "blitz_times['end_time_r'] = blitz_times['end_time_r'].dt.tz_convert('Europe/Berlin')"
   ]
  },
  {
   "cell_type": "code",
   "execution_count": 385,
   "id": "30be1cb4",
   "metadata": {},
   "outputs": [],
   "source": [
    "rapid_times['weekday'] = rapid_times['end_time_r'].dt.weekday\n",
    "blitz_times['weekday'] = blitz_times['end_time_r'].dt.weekday\n",
    "rapid_times['hour'] = rapid_times['end_time_r'].dt.hour\n",
    "blitz_times['hour'] = blitz_times['end_time_r'].dt.hour"
   ]
  },
  {
   "cell_type": "code",
   "execution_count": 386,
   "id": "1d9b0f12",
   "metadata": {},
   "outputs": [
    {
     "data": {
      "text/html": [
       "<div>\n",
       "<style scoped>\n",
       "    .dataframe tbody tr th:only-of-type {\n",
       "        vertical-align: middle;\n",
       "    }\n",
       "\n",
       "    .dataframe tbody tr th {\n",
       "        vertical-align: top;\n",
       "    }\n",
       "\n",
       "    .dataframe thead th {\n",
       "        text-align: right;\n",
       "    }\n",
       "</style>\n",
       "<table border=\"1\" class=\"dataframe\">\n",
       "  <thead>\n",
       "    <tr style=\"text-align: right;\">\n",
       "      <th></th>\n",
       "      <th>username</th>\n",
       "      <th>end_time</th>\n",
       "      <th>end_time_r</th>\n",
       "      <th>weekday</th>\n",
       "      <th>hour</th>\n",
       "    </tr>\n",
       "  </thead>\n",
       "  <tbody>\n",
       "    <tr>\n",
       "      <th>0</th>\n",
       "      <td>1977ivan</td>\n",
       "      <td>1650032737</td>\n",
       "      <td>2022-04-15 16:25:37+02:00</td>\n",
       "      <td>4</td>\n",
       "      <td>16</td>\n",
       "    </tr>\n",
       "    <tr>\n",
       "      <th>1</th>\n",
       "      <td>1977ivan</td>\n",
       "      <td>1650033046</td>\n",
       "      <td>2022-04-15 16:30:46+02:00</td>\n",
       "      <td>4</td>\n",
       "      <td>16</td>\n",
       "    </tr>\n",
       "    <tr>\n",
       "      <th>2</th>\n",
       "      <td>1977ivan</td>\n",
       "      <td>1650033408</td>\n",
       "      <td>2022-04-15 16:36:48+02:00</td>\n",
       "      <td>4</td>\n",
       "      <td>16</td>\n",
       "    </tr>\n",
       "    <tr>\n",
       "      <th>3</th>\n",
       "      <td>1977ivan</td>\n",
       "      <td>1650033786</td>\n",
       "      <td>2022-04-15 16:43:06+02:00</td>\n",
       "      <td>4</td>\n",
       "      <td>16</td>\n",
       "    </tr>\n",
       "    <tr>\n",
       "      <th>4</th>\n",
       "      <td>1977ivan</td>\n",
       "      <td>1650034117</td>\n",
       "      <td>2022-04-15 16:48:37+02:00</td>\n",
       "      <td>4</td>\n",
       "      <td>16</td>\n",
       "    </tr>\n",
       "    <tr>\n",
       "      <th>...</th>\n",
       "      <td>...</td>\n",
       "      <td>...</td>\n",
       "      <td>...</td>\n",
       "      <td>...</td>\n",
       "      <td>...</td>\n",
       "    </tr>\n",
       "    <tr>\n",
       "      <th>223269</th>\n",
       "      <td>speshka</td>\n",
       "      <td>1649176884</td>\n",
       "      <td>2022-04-05 18:41:24+02:00</td>\n",
       "      <td>1</td>\n",
       "      <td>18</td>\n",
       "    </tr>\n",
       "    <tr>\n",
       "      <th>223270</th>\n",
       "      <td>speshka</td>\n",
       "      <td>1649177372</td>\n",
       "      <td>2022-04-05 18:49:32+02:00</td>\n",
       "      <td>1</td>\n",
       "      <td>18</td>\n",
       "    </tr>\n",
       "    <tr>\n",
       "      <th>223271</th>\n",
       "      <td>speshka</td>\n",
       "      <td>1649178108</td>\n",
       "      <td>2022-04-05 19:01:48+02:00</td>\n",
       "      <td>1</td>\n",
       "      <td>19</td>\n",
       "    </tr>\n",
       "    <tr>\n",
       "      <th>223272</th>\n",
       "      <td>viuvanegra</td>\n",
       "      <td>1649812839</td>\n",
       "      <td>2022-04-13 03:20:39+02:00</td>\n",
       "      <td>2</td>\n",
       "      <td>3</td>\n",
       "    </tr>\n",
       "    <tr>\n",
       "      <th>223273</th>\n",
       "      <td>viuvanegra</td>\n",
       "      <td>1649945219</td>\n",
       "      <td>2022-04-14 16:06:59+02:00</td>\n",
       "      <td>3</td>\n",
       "      <td>16</td>\n",
       "    </tr>\n",
       "  </tbody>\n",
       "</table>\n",
       "<p>223274 rows × 5 columns</p>\n",
       "</div>"
      ],
      "text/plain": [
       "          username    end_time                end_time_r  weekday  hour\n",
       "0         1977ivan  1650032737 2022-04-15 16:25:37+02:00        4    16\n",
       "1         1977ivan  1650033046 2022-04-15 16:30:46+02:00        4    16\n",
       "2         1977ivan  1650033408 2022-04-15 16:36:48+02:00        4    16\n",
       "3         1977ivan  1650033786 2022-04-15 16:43:06+02:00        4    16\n",
       "4         1977ivan  1650034117 2022-04-15 16:48:37+02:00        4    16\n",
       "...            ...         ...                       ...      ...   ...\n",
       "223269     speshka  1649176884 2022-04-05 18:41:24+02:00        1    18\n",
       "223270     speshka  1649177372 2022-04-05 18:49:32+02:00        1    18\n",
       "223271     speshka  1649178108 2022-04-05 19:01:48+02:00        1    19\n",
       "223272  viuvanegra  1649812839 2022-04-13 03:20:39+02:00        2     3\n",
       "223273  viuvanegra  1649945219 2022-04-14 16:06:59+02:00        3    16\n",
       "\n",
       "[223274 rows x 5 columns]"
      ]
     },
     "execution_count": 386,
     "metadata": {},
     "output_type": "execute_result"
    }
   ],
   "source": [
    "blitz_times"
   ]
  },
  {
   "cell_type": "markdown",
   "id": "d0755805",
   "metadata": {},
   "source": [
    "### Plots for times"
   ]
  },
  {
   "cell_type": "code",
   "execution_count": 504,
   "id": "c795e1c8",
   "metadata": {},
   "outputs": [],
   "source": [
    "rapid_hour = rapid_times[['hour']].value_counts()\n",
    "rapid_hour = rapid_hour.reset_index()\n",
    "rapid_hour.columns=['Hours of day','Number of games']"
   ]
  },
  {
   "cell_type": "code",
   "execution_count": 535,
   "id": "3b66384b",
   "metadata": {},
   "outputs": [
    {
     "data": {
      "image/png": "[encoded data removed]",
      "text/plain": [
       "<Figure size 1152x432 with 1 Axes>"
      ]
     },
     "metadata": {
      "needs_background": "light"
     },
     "output_type": "display_data"
    }
   ],
   "source": [
    "plt.figure(figsize=(16, 6))\n",
    "sns.barplot(data=rapid_hour,x='Hours of day',y='Number of games')\n",
    "plt.title('Rapid games in April 2022 of all titled players rated over 2300 (hours are in CET timezone)')\n",
    "#plt.savefig('Hours_rapid.jpg',dpi=300)"
   ]
  },
  {
   "cell_type": "code",
   "execution_count": 498,
   "id": "cc52ad64",
   "metadata": {},
   "outputs": [],
   "source": [
    "def weekday_word(df,col):\n",
    "    df[col] = df[col].astype(str)\n",
    "    df[col] = df[col].map({'0':'Monday','1':'Tuesday','2':'Wednesday','3':'Thursday','4':'Friday','5':'Saturday','6':'Sunday'})\n",
    "    return df"
   ]
  },
  {
   "cell_type": "code",
   "execution_count": 506,
   "id": "2e0b98b6",
   "metadata": {},
   "outputs": [
    {
     "data": {
      "text/html": [
       "<div>\n",
       "<style scoped>\n",
       "    .dataframe tbody tr th:only-of-type {\n",
       "        vertical-align: middle;\n",
       "    }\n",
       "\n",
       "    .dataframe tbody tr th {\n",
       "        vertical-align: top;\n",
       "    }\n",
       "\n",
       "    .dataframe thead th {\n",
       "        text-align: right;\n",
       "    }\n",
       "</style>\n",
       "<table border=\"1\" class=\"dataframe\">\n",
       "  <thead>\n",
       "    <tr style=\"text-align: right;\">\n",
       "      <th></th>\n",
       "      <th>Weekday</th>\n",
       "      <th>Number of games</th>\n",
       "    </tr>\n",
       "  </thead>\n",
       "  <tbody>\n",
       "    <tr>\n",
       "      <th>0</th>\n",
       "      <td>Saturday</td>\n",
       "      <td>2448</td>\n",
       "    </tr>\n",
       "    <tr>\n",
       "      <th>1</th>\n",
       "      <td>Sunday</td>\n",
       "      <td>1130</td>\n",
       "    </tr>\n",
       "    <tr>\n",
       "      <th>2</th>\n",
       "      <td>Friday</td>\n",
       "      <td>890</td>\n",
       "    </tr>\n",
       "    <tr>\n",
       "      <th>3</th>\n",
       "      <td>Thursday</td>\n",
       "      <td>741</td>\n",
       "    </tr>\n",
       "    <tr>\n",
       "      <th>4</th>\n",
       "      <td>Tuesday</td>\n",
       "      <td>723</td>\n",
       "    </tr>\n",
       "    <tr>\n",
       "      <th>5</th>\n",
       "      <td>Wednesday</td>\n",
       "      <td>643</td>\n",
       "    </tr>\n",
       "    <tr>\n",
       "      <th>6</th>\n",
       "      <td>Monday</td>\n",
       "      <td>593</td>\n",
       "    </tr>\n",
       "  </tbody>\n",
       "</table>\n",
       "</div>"
      ],
      "text/plain": [
       "     Weekday  Number of games\n",
       "0   Saturday             2448\n",
       "1     Sunday             1130\n",
       "2     Friday              890\n",
       "3   Thursday              741\n",
       "4    Tuesday              723\n",
       "5  Wednesday              643\n",
       "6     Monday              593"
      ]
     },
     "execution_count": 506,
     "metadata": {},
     "output_type": "execute_result"
    }
   ],
   "source": [
    "rapid_weekday = rapid_times[['weekday']].value_counts()\n",
    "rapid_weekday = rapid_weekday.reset_index()\n",
    "rapid_weekday.columns=['Weekday','Number of games']\n",
    "weekday_word(rapid_weekday,'Weekday')"
   ]
  },
  {
   "cell_type": "code",
   "execution_count": 510,
   "id": "f73f90a5",
   "metadata": {},
   "outputs": [],
   "source": [
    "weekdays = ['Monday','Tuesday','Wednesday','Thursday','Friday','Saturday','Sunday']"
   ]
  },
  {
   "cell_type": "code",
   "execution_count": 536,
   "id": "04852427",
   "metadata": {},
   "outputs": [
    {
     "data": {
      "image/png": "[encoded data removed]",
      "text/plain": [
       "<Figure size 1152x432 with 1 Axes>"
      ]
     },
     "metadata": {
      "needs_background": "light"
     },
     "output_type": "display_data"
    }
   ],
   "source": [
    "plt.figure(figsize=(16, 6))\n",
    "sns.barplot(data=rapid_weekday,x='Weekday',y='Number of games',order=weekdays)\n",
    "plt.title('Rapid games in April 2022 of all titled players rated over 2300')\n",
    "#plt.savefig('Weekday_rapid.jpg',dpi=300)"
   ]
  },
  {
   "cell_type": "code",
   "execution_count": 515,
   "id": "4979b9fe",
   "metadata": {},
   "outputs": [
    {
     "data": {
      "text/html": [
       "<div>\n",
       "<style scoped>\n",
       "    .dataframe tbody tr th:only-of-type {\n",
       "        vertical-align: middle;\n",
       "    }\n",
       "\n",
       "    .dataframe tbody tr th {\n",
       "        vertical-align: top;\n",
       "    }\n",
       "\n",
       "    .dataframe thead th {\n",
       "        text-align: right;\n",
       "    }\n",
       "</style>\n",
       "<table border=\"1\" class=\"dataframe\">\n",
       "  <thead>\n",
       "    <tr style=\"text-align: right;\">\n",
       "      <th></th>\n",
       "      <th>Weekday</th>\n",
       "      <th>Hours of day</th>\n",
       "      <th>Number of games</th>\n",
       "    </tr>\n",
       "  </thead>\n",
       "  <tbody>\n",
       "    <tr>\n",
       "      <th>0</th>\n",
       "      <td>Saturday</td>\n",
       "      <td>18</td>\n",
       "      <td>512</td>\n",
       "    </tr>\n",
       "    <tr>\n",
       "      <th>1</th>\n",
       "      <td>Saturday</td>\n",
       "      <td>19</td>\n",
       "      <td>494</td>\n",
       "    </tr>\n",
       "    <tr>\n",
       "      <th>2</th>\n",
       "      <td>Saturday</td>\n",
       "      <td>20</td>\n",
       "      <td>491</td>\n",
       "    </tr>\n",
       "    <tr>\n",
       "      <th>3</th>\n",
       "      <td>Saturday</td>\n",
       "      <td>21</td>\n",
       "      <td>155</td>\n",
       "    </tr>\n",
       "    <tr>\n",
       "      <th>4</th>\n",
       "      <td>Sunday</td>\n",
       "      <td>20</td>\n",
       "      <td>106</td>\n",
       "    </tr>\n",
       "    <tr>\n",
       "      <th>...</th>\n",
       "      <td>...</td>\n",
       "      <td>...</td>\n",
       "      <td>...</td>\n",
       "    </tr>\n",
       "    <tr>\n",
       "      <th>163</th>\n",
       "      <td>Thursday</td>\n",
       "      <td>11</td>\n",
       "      <td>10</td>\n",
       "    </tr>\n",
       "    <tr>\n",
       "      <th>164</th>\n",
       "      <td>Monday</td>\n",
       "      <td>6</td>\n",
       "      <td>10</td>\n",
       "    </tr>\n",
       "    <tr>\n",
       "      <th>165</th>\n",
       "      <td>Tuesday</td>\n",
       "      <td>11</td>\n",
       "      <td>10</td>\n",
       "    </tr>\n",
       "    <tr>\n",
       "      <th>166</th>\n",
       "      <td>Monday</td>\n",
       "      <td>7</td>\n",
       "      <td>8</td>\n",
       "    </tr>\n",
       "    <tr>\n",
       "      <th>167</th>\n",
       "      <td>Wednesday</td>\n",
       "      <td>5</td>\n",
       "      <td>7</td>\n",
       "    </tr>\n",
       "  </tbody>\n",
       "</table>\n",
       "<p>168 rows × 3 columns</p>\n",
       "</div>"
      ],
      "text/plain": [
       "       Weekday  Hours of day  Number of games\n",
       "0     Saturday            18              512\n",
       "1     Saturday            19              494\n",
       "2     Saturday            20              491\n",
       "3     Saturday            21              155\n",
       "4       Sunday            20              106\n",
       "..         ...           ...              ...\n",
       "163   Thursday            11               10\n",
       "164     Monday             6               10\n",
       "165    Tuesday            11               10\n",
       "166     Monday             7                8\n",
       "167  Wednesday             5                7\n",
       "\n",
       "[168 rows x 3 columns]"
      ]
     },
     "execution_count": 515,
     "metadata": {},
     "output_type": "execute_result"
    }
   ],
   "source": [
    "rapid_hour_weekday = rapid_times[['weekday','hour']].value_counts()\n",
    "rapid_hour_weekday = rapid_hour_weekday.reset_index()\n",
    "rapid_hour_weekday.columns = ['Weekday','Hours of day','Number of games']\n",
    "weekday_word(rapid_hour_weekday,'Weekday')"
   ]
  },
  {
   "cell_type": "code",
   "execution_count": 537,
   "id": "ead3c5c1",
   "metadata": {},
   "outputs": [
    {
     "data": {
      "image/png": "[encoded data removed]",
      "text/plain": [
       "<Figure size 1152x432 with 1 Axes>"
      ]
     },
     "metadata": {
      "needs_background": "light"
     },
     "output_type": "display_data"
    }
   ],
   "source": [
    "plt.figure(figsize=(16, 6))\n",
    "sns.barplot(data=rapid_hour_weekday,x='Hours of day',y='Number of games',hue='Weekday',hue_order=weekdays)\n",
    "plt.title('Rapid games in April 2022 of all titled players rated over 2300 (hours are in CET timezone)')\n",
    "#plt.savefig('Hours_Weekday_rapid.jpg',dpi=300)"
   ]
  },
  {
   "cell_type": "code",
   "execution_count": 517,
   "id": "14f22b79",
   "metadata": {},
   "outputs": [],
   "source": [
    "blitz_hour = blitz_times[['hour']].value_counts()\n",
    "blitz_hour = blitz_hour.reset_index()\n",
    "blitz_hour.columns=['Hours of day','Number of games']"
   ]
  },
  {
   "cell_type": "code",
   "execution_count": 538,
   "id": "dd7307e0",
   "metadata": {},
   "outputs": [
    {
     "data": {
      "image/png": "[encoded data removed]",
      "text/plain": [
       "<Figure size 1152x432 with 1 Axes>"
      ]
     },
     "metadata": {
      "needs_background": "light"
     },
     "output_type": "display_data"
    }
   ],
   "source": [
    "plt.figure(figsize=(16, 6))\n",
    "g=sns.barplot(data=blitz_hour,x='Hours of day',y='Number of games')\n",
    "plt.title('Blitz games in April 2022 of all titled players rated over 2400 (hours are in CET timezone)')\n",
    "#plt.savefig('Hours_blitz.jpg',dpi=300)"
   ]
  },
  {
   "cell_type": "code",
   "execution_count": 523,
   "id": "ab2e144f",
   "metadata": {},
   "outputs": [
    {
     "data": {
      "text/html": [
       "<div>\n",
       "<style scoped>\n",
       "    .dataframe tbody tr th:only-of-type {\n",
       "        vertical-align: middle;\n",
       "    }\n",
       "\n",
       "    .dataframe tbody tr th {\n",
       "        vertical-align: top;\n",
       "    }\n",
       "\n",
       "    .dataframe thead th {\n",
       "        text-align: right;\n",
       "    }\n",
       "</style>\n",
       "<table border=\"1\" class=\"dataframe\">\n",
       "  <thead>\n",
       "    <tr style=\"text-align: right;\">\n",
       "      <th></th>\n",
       "      <th>Weekday</th>\n",
       "      <th>Number of games</th>\n",
       "    </tr>\n",
       "  </thead>\n",
       "  <tbody>\n",
       "    <tr>\n",
       "      <th>0</th>\n",
       "      <td>Tuesday</td>\n",
       "      <td>40062</td>\n",
       "    </tr>\n",
       "    <tr>\n",
       "      <th>1</th>\n",
       "      <td>Wednesday</td>\n",
       "      <td>34500</td>\n",
       "    </tr>\n",
       "    <tr>\n",
       "      <th>2</th>\n",
       "      <td>Friday</td>\n",
       "      <td>32722</td>\n",
       "    </tr>\n",
       "    <tr>\n",
       "      <th>3</th>\n",
       "      <td>Saturday</td>\n",
       "      <td>32648</td>\n",
       "    </tr>\n",
       "    <tr>\n",
       "      <th>4</th>\n",
       "      <td>Sunday</td>\n",
       "      <td>28420</td>\n",
       "    </tr>\n",
       "    <tr>\n",
       "      <th>5</th>\n",
       "      <td>Monday</td>\n",
       "      <td>27532</td>\n",
       "    </tr>\n",
       "    <tr>\n",
       "      <th>6</th>\n",
       "      <td>Thursday</td>\n",
       "      <td>27390</td>\n",
       "    </tr>\n",
       "  </tbody>\n",
       "</table>\n",
       "</div>"
      ],
      "text/plain": [
       "     Weekday  Number of games\n",
       "0    Tuesday            40062\n",
       "1  Wednesday            34500\n",
       "2     Friday            32722\n",
       "3   Saturday            32648\n",
       "4     Sunday            28420\n",
       "5     Monday            27532\n",
       "6   Thursday            27390"
      ]
     },
     "execution_count": 523,
     "metadata": {},
     "output_type": "execute_result"
    }
   ],
   "source": [
    "blitz_weekday = blitz_times[['weekday']].value_counts()\n",
    "blitz_weekday = blitz_weekday.reset_index()\n",
    "blitz_weekday.columns=['Weekday','Number of games']\n",
    "weekday_word(blitz_weekday,'Weekday')"
   ]
  },
  {
   "cell_type": "code",
   "execution_count": 539,
   "id": "fb671ef7",
   "metadata": {},
   "outputs": [
    {
     "data": {
      "image/png": "[encoded data removed]",
      "text/plain": [
       "<Figure size 1152x432 with 1 Axes>"
      ]
     },
     "metadata": {
      "needs_background": "light"
     },
     "output_type": "display_data"
    }
   ],
   "source": [
    "plt.figure(figsize=(16, 6))\n",
    "sns.barplot(data=blitz_weekday,x='Weekday',y='Number of games',order=weekdays)\n",
    "plt.title('Blitz games in April 2022 of all titled players rated over 2400')\n",
    "#plt.savefig('Weekday_blitz.jpg',dpi=300)"
   ]
  },
  {
   "cell_type": "code",
   "execution_count": 527,
   "id": "c068b6f0",
   "metadata": {},
   "outputs": [
    {
     "data": {
      "text/html": [
       "<div>\n",
       "<style scoped>\n",
       "    .dataframe tbody tr th:only-of-type {\n",
       "        vertical-align: middle;\n",
       "    }\n",
       "\n",
       "    .dataframe tbody tr th {\n",
       "        vertical-align: top;\n",
       "    }\n",
       "\n",
       "    .dataframe thead th {\n",
       "        text-align: right;\n",
       "    }\n",
       "</style>\n",
       "<table border=\"1\" class=\"dataframe\">\n",
       "  <thead>\n",
       "    <tr style=\"text-align: right;\">\n",
       "      <th></th>\n",
       "      <th>Weekday</th>\n",
       "      <th>Hours of day</th>\n",
       "      <th>Number of games</th>\n",
       "    </tr>\n",
       "  </thead>\n",
       "  <tbody>\n",
       "    <tr>\n",
       "      <th>0</th>\n",
       "      <td>Tuesday</td>\n",
       "      <td>17</td>\n",
       "      <td>5965</td>\n",
       "    </tr>\n",
       "    <tr>\n",
       "      <th>1</th>\n",
       "      <td>Tuesday</td>\n",
       "      <td>18</td>\n",
       "      <td>5306</td>\n",
       "    </tr>\n",
       "    <tr>\n",
       "      <th>2</th>\n",
       "      <td>Tuesday</td>\n",
       "      <td>23</td>\n",
       "      <td>4893</td>\n",
       "    </tr>\n",
       "    <tr>\n",
       "      <th>3</th>\n",
       "      <td>Wednesday</td>\n",
       "      <td>0</td>\n",
       "      <td>3928</td>\n",
       "    </tr>\n",
       "    <tr>\n",
       "      <th>4</th>\n",
       "      <td>Wednesday</td>\n",
       "      <td>19</td>\n",
       "      <td>3046</td>\n",
       "    </tr>\n",
       "    <tr>\n",
       "      <th>...</th>\n",
       "      <td>...</td>\n",
       "      <td>...</td>\n",
       "      <td>...</td>\n",
       "    </tr>\n",
       "    <tr>\n",
       "      <th>163</th>\n",
       "      <td>Saturday</td>\n",
       "      <td>4</td>\n",
       "      <td>701</td>\n",
       "    </tr>\n",
       "    <tr>\n",
       "      <th>164</th>\n",
       "      <td>Friday</td>\n",
       "      <td>4</td>\n",
       "      <td>695</td>\n",
       "    </tr>\n",
       "    <tr>\n",
       "      <th>165</th>\n",
       "      <td>Monday</td>\n",
       "      <td>8</td>\n",
       "      <td>694</td>\n",
       "    </tr>\n",
       "    <tr>\n",
       "      <th>166</th>\n",
       "      <td>Monday</td>\n",
       "      <td>7</td>\n",
       "      <td>665</td>\n",
       "    </tr>\n",
       "    <tr>\n",
       "      <th>167</th>\n",
       "      <td>Thursday</td>\n",
       "      <td>10</td>\n",
       "      <td>578</td>\n",
       "    </tr>\n",
       "  </tbody>\n",
       "</table>\n",
       "<p>168 rows × 3 columns</p>\n",
       "</div>"
      ],
      "text/plain": [
       "       Weekday  Hours of day  Number of games\n",
       "0      Tuesday            17             5965\n",
       "1      Tuesday            18             5306\n",
       "2      Tuesday            23             4893\n",
       "3    Wednesday             0             3928\n",
       "4    Wednesday            19             3046\n",
       "..         ...           ...              ...\n",
       "163   Saturday             4              701\n",
       "164     Friday             4              695\n",
       "165     Monday             8              694\n",
       "166     Monday             7              665\n",
       "167   Thursday            10              578\n",
       "\n",
       "[168 rows x 3 columns]"
      ]
     },
     "execution_count": 527,
     "metadata": {},
     "output_type": "execute_result"
    }
   ],
   "source": [
    "blitz_hour_weekday = blitz_times[['weekday','hour']].value_counts()\n",
    "blitz_hour_weekday = blitz_hour_weekday.reset_index()\n",
    "blitz_hour_weekday.columns = ['Weekday','Hours of day','Number of games']\n",
    "weekday_word(blitz_hour_weekday,'Weekday')"
   ]
  },
  {
   "cell_type": "code",
   "execution_count": 540,
   "id": "32654d36",
   "metadata": {},
   "outputs": [
    {
     "data": {
      "image/png": "[encoded data removed]",
      "text/plain": [
       "<Figure size 1152x432 with 1 Axes>"
      ]
     },
     "metadata": {
      "needs_background": "light"
     },
     "output_type": "display_data"
    }
   ],
   "source": [
    "plt.figure(figsize=(16, 6))\n",
    "sns.barplot(data=blitz_hour_weekday,x='Hours of day',y='Number of games',hue='Weekday',hue_order=weekdays)\n",
    "plt.title('Blitz games in April 2022 of all titled players rated over 2400 (hours are in CET timezone)')\n",
    "#plt.savefig('Hours_Weekday_blitz.jpg',dpi=300)"
   ]
  },
  {
   "cell_type": "code",
   "execution_count": null,
   "id": "24633d18",
   "metadata": {},
   "outputs": [],
   "source": []
  }
 ],
 "metadata": {
  "kernelspec": {
   "display_name": "Python 3 (ipykernel)",
   "language": "python",
   "name": "python3"
  },
  "language_info": {
   "codemirror_mode": {
    "name": "ipython",
    "version": 3
   },
   "file_extension": ".py",
   "mimetype": "text/x-python",
   "name": "python",
   "nbconvert_exporter": "python",
   "pygments_lexer": "ipython3",
   "version": "3.7.11"
  }
 },
 "nbformat": 4,
 "nbformat_minor": 5
}
